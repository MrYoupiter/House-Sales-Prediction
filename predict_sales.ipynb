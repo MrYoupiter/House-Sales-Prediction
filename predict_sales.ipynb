{
 "cells": [
  {
   "cell_type": "code",
   "execution_count": 1,
   "metadata": {},
   "outputs": [
    {
     "name": "stderr",
     "output_type": "stream",
     "text": [
      "/anaconda/lib/python3.6/site-packages/sklearn/cross_validation.py:44: DeprecationWarning: This module was deprecated in version 0.18 in favor of the model_selection module into which all the refactored classes and functions are moved. Also note that the interface of the new CV iterators are different from that of this module. This module will be removed in 0.20.\n",
      "  \"This module will be removed in 0.20.\", DeprecationWarning)\n"
     ]
    }
   ],
   "source": [
    "import pandas as pd\n",
    "import numpy as np\n",
    "from sklearn.model_selection import train_test_split\n",
    "from sklearn.linear_model import LinearRegression\n",
    "from sklearn.linear_model import LogisticRegression\n",
    "from sklearn.tree import DecisionTreeClassifier\n",
    "from sklearn.neighbors import KNeighborsClassifier\n",
    "from sklearn.metrics import mean_squared_error\n",
    "from sklearn import preprocessing\n",
    "from sklearn.ensemble import RandomForestClassifier\n",
    "from sklearn.cross_validation import cross_val_score\n",
    "from sklearn.metrics import accuracy_score\n",
    "import matplotlib.pyplot as plt\n",
    "import matplotlib.patches as mpatches\n",
    "import seaborn as sns"
   ]
  },
  {
   "cell_type": "code",
   "execution_count": 2,
   "metadata": {
    "collapsed": true
   },
   "outputs": [],
   "source": [
    "kc_df = pd.DataFrame()"
   ]
  },
  {
   "cell_type": "code",
   "execution_count": 3,
   "metadata": {
    "collapsed": true
   },
   "outputs": [],
   "source": [
    "kc_df = pd.read_csv('https://raw.githubusercontent.com/javed24/House-Sales-Prediction/master/dataset/kc_house_data.csv')\n"
   ]
  },
  {
   "cell_type": "code",
   "execution_count": 4,
   "metadata": {},
   "outputs": [
    {
     "name": "stdout",
     "output_type": "stream",
     "text": [
      "(21613, 21)\n",
      "           id             date     price  bedrooms  bathrooms  sqft_living  \\\n",
      "0  7129300520  20141013T000000  221900.0         3       1.00         1180   \n",
      "1  6414100192  20141209T000000  538000.0         3       2.25         2570   \n",
      "\n",
      "   sqft_lot  floors  waterfront  view     ...      grade  sqft_above  \\\n",
      "0      5650     1.0           0     0     ...          7        1180   \n",
      "1      7242     2.0           0     0     ...          7        2170   \n",
      "\n",
      "   sqft_basement  yr_built  yr_renovated  zipcode      lat     long  \\\n",
      "0              0      1955             0    98178  47.5112 -122.257   \n",
      "1            400      1951          1991    98125  47.7210 -122.319   \n",
      "\n",
      "   sqft_living15  sqft_lot15  \n",
      "0           1340        5650  \n",
      "1           1690        7639  \n",
      "\n",
      "[2 rows x 21 columns]\n"
     ]
    }
   ],
   "source": [
    "print(kc_df.shape)"
   ]
  },
  {
   "cell_type": "code",
   "execution_count": 5,
   "metadata": {},
   "outputs": [
    {
     "data": {
      "text/plain": [
       "['id',\n",
       " 'date',\n",
       " 'price',\n",
       " 'bedrooms',\n",
       " 'bathrooms',\n",
       " 'sqft_living',\n",
       " 'sqft_lot',\n",
       " 'floors',\n",
       " 'waterfront',\n",
       " 'view',\n",
       " 'condition',\n",
       " 'grade',\n",
       " 'sqft_above',\n",
       " 'sqft_basement',\n",
       " 'yr_built',\n",
       " 'yr_renovated',\n",
       " 'zipcode',\n",
       " 'lat',\n",
       " 'long',\n",
       " 'sqft_living15',\n",
       " 'sqft_lot15']"
      ]
     },
     "execution_count": 5,
     "metadata": {},
     "output_type": "execute_result"
    }
   ],
   "source": [
    "list(kc_df.columns.values)"
   ]
  },
  {
   "cell_type": "code",
   "execution_count": 6,
   "metadata": {
    "collapsed": true
   },
   "outputs": [],
   "source": [
    "features = ['bedrooms','bathrooms','sqft_living','sqft_lot','floors','waterfront','view','condition','grade','sqft_above','sqft_basement','yr_built']\n",
    "#features = list(kc_df.columns.values)"
   ]
  },
  {
   "cell_type": "code",
   "execution_count": 7,
   "metadata": {},
   "outputs": [
    {
     "data": {
      "text/html": [
       "<div>\n",
       "<style>\n",
       "    .dataframe thead tr:only-child th {\n",
       "        text-align: right;\n",
       "    }\n",
       "\n",
       "    .dataframe thead th {\n",
       "        text-align: left;\n",
       "    }\n",
       "\n",
       "    .dataframe tbody tr th {\n",
       "        vertical-align: top;\n",
       "    }\n",
       "</style>\n",
       "<table border=\"1\" class=\"dataframe\">\n",
       "  <thead>\n",
       "    <tr style=\"text-align: right;\">\n",
       "      <th></th>\n",
       "      <th>bedrooms</th>\n",
       "      <th>bathrooms</th>\n",
       "      <th>sqft_living</th>\n",
       "      <th>sqft_lot</th>\n",
       "      <th>floors</th>\n",
       "      <th>waterfront</th>\n",
       "      <th>view</th>\n",
       "      <th>condition</th>\n",
       "      <th>grade</th>\n",
       "      <th>sqft_above</th>\n",
       "      <th>sqft_basement</th>\n",
       "      <th>yr_built</th>\n",
       "    </tr>\n",
       "  </thead>\n",
       "  <tbody>\n",
       "    <tr>\n",
       "      <th>0</th>\n",
       "      <td>3</td>\n",
       "      <td>1.00</td>\n",
       "      <td>1180</td>\n",
       "      <td>5650</td>\n",
       "      <td>1.0</td>\n",
       "      <td>0</td>\n",
       "      <td>0</td>\n",
       "      <td>3</td>\n",
       "      <td>7</td>\n",
       "      <td>1180</td>\n",
       "      <td>0</td>\n",
       "      <td>1955</td>\n",
       "    </tr>\n",
       "    <tr>\n",
       "      <th>1</th>\n",
       "      <td>3</td>\n",
       "      <td>2.25</td>\n",
       "      <td>2570</td>\n",
       "      <td>7242</td>\n",
       "      <td>2.0</td>\n",
       "      <td>0</td>\n",
       "      <td>0</td>\n",
       "      <td>3</td>\n",
       "      <td>7</td>\n",
       "      <td>2170</td>\n",
       "      <td>400</td>\n",
       "      <td>1951</td>\n",
       "    </tr>\n",
       "    <tr>\n",
       "      <th>2</th>\n",
       "      <td>2</td>\n",
       "      <td>1.00</td>\n",
       "      <td>770</td>\n",
       "      <td>10000</td>\n",
       "      <td>1.0</td>\n",
       "      <td>0</td>\n",
       "      <td>0</td>\n",
       "      <td>3</td>\n",
       "      <td>6</td>\n",
       "      <td>770</td>\n",
       "      <td>0</td>\n",
       "      <td>1933</td>\n",
       "    </tr>\n",
       "    <tr>\n",
       "      <th>3</th>\n",
       "      <td>4</td>\n",
       "      <td>3.00</td>\n",
       "      <td>1960</td>\n",
       "      <td>5000</td>\n",
       "      <td>1.0</td>\n",
       "      <td>0</td>\n",
       "      <td>0</td>\n",
       "      <td>5</td>\n",
       "      <td>7</td>\n",
       "      <td>1050</td>\n",
       "      <td>910</td>\n",
       "      <td>1965</td>\n",
       "    </tr>\n",
       "    <tr>\n",
       "      <th>4</th>\n",
       "      <td>3</td>\n",
       "      <td>2.00</td>\n",
       "      <td>1680</td>\n",
       "      <td>8080</td>\n",
       "      <td>1.0</td>\n",
       "      <td>0</td>\n",
       "      <td>0</td>\n",
       "      <td>3</td>\n",
       "      <td>8</td>\n",
       "      <td>1680</td>\n",
       "      <td>0</td>\n",
       "      <td>1987</td>\n",
       "    </tr>\n",
       "  </tbody>\n",
       "</table>\n",
       "</div>"
      ],
      "text/plain": [
       "   bedrooms  bathrooms  sqft_living  sqft_lot  floors  waterfront  view  \\\n",
       "0         3       1.00         1180      5650     1.0           0     0   \n",
       "1         3       2.25         2570      7242     2.0           0     0   \n",
       "2         2       1.00          770     10000     1.0           0     0   \n",
       "3         4       3.00         1960      5000     1.0           0     0   \n",
       "4         3       2.00         1680      8080     1.0           0     0   \n",
       "\n",
       "   condition  grade  sqft_above  sqft_basement  yr_built  \n",
       "0          3      7        1180              0      1955  \n",
       "1          3      7        2170            400      1951  \n",
       "2          3      6         770              0      1933  \n",
       "3          5      7        1050            910      1965  \n",
       "4          3      8        1680              0      1987  "
      ]
     },
     "execution_count": 7,
     "metadata": {},
     "output_type": "execute_result"
    }
   ],
   "source": [
    "feature_matrix = kc_df[features]\n",
    "lable_vector = kc_df['price']\n",
    "feature_matrix.head()"
   ]
  },
  {
   "cell_type": "code",
   "execution_count": 8,
   "metadata": {
    "collapsed": true
   },
   "outputs": [],
   "source": [
    "X_train, X_test, y_train, y_test = train_test_split(feature_matrix, lable_vector, test_size=0.3, random_state=3)"
   ]
  },
  {
   "cell_type": "code",
   "execution_count": 9,
   "metadata": {
    "collapsed": true
   },
   "outputs": [],
   "source": [
    "# Initialize classifiers \n",
    "#my_logreg = LogisticRegression()\n",
    "\n",
    "my_linear = LinearRegression()\n",
    "\n",
    "#my_decisiontree = DecisionTreeClassifier()\n",
    "\n",
    "#k = 5\n",
    "#knn = KNeighborsClassifier(n_neighbors=k)"
   ]
  },
  {
   "cell_type": "code",
   "execution_count": 10,
   "metadata": {},
   "outputs": [
    {
     "data": {
      "text/plain": [
       "LinearRegression(copy_X=True, fit_intercept=True, n_jobs=1, normalize=False)"
      ]
     },
     "execution_count": 10,
     "metadata": {},
     "output_type": "execute_result"
    }
   ],
   "source": [
    "#knn.fit(X_train, y_train)\n",
    "\n",
    "#my_decisiontree.fit(X_train, y_train)\n",
    "\n",
    "#my_logreg.fit(X_train, y_train)\n",
    "\n",
    "my_linear.fit(X_train, y_train)"
   ]
  },
  {
   "cell_type": "code",
   "execution_count": 11,
   "metadata": {},
   "outputs": [
    {
     "name": "stdout",
     "output_type": "stream",
     "text": [
      "6461472.20531\n",
      "[ -3.63453263e+04   4.59850421e+04   1.12835313e+02  -2.27124562e-01\n",
      "   2.81322640e+04   5.29438621e+05   4.93081587e+04   1.81986059e+04\n",
      "   1.23643988e+05   5.61046684e+01   5.67306448e+01  -3.70924829e+03]\n",
      "[ -3.63453263e+04   4.59850421e+04   1.12835313e+02  -2.27124562e-01\n",
      "   2.81322640e+04   5.29438621e+05   4.93081587e+04   1.81986059e+04\n",
      "   1.23643988e+05   5.61046684e+01   5.67306448e+01  -3.70924829e+03]\n"
     ]
    }
   ],
   "source": [
    "# printing Theta0 using attribute \"intercept_\":\n",
    "print(my_linear.intercept_)\n",
    "\n",
    "# printing [Theta1, Theta2, Theta3] using attribute \"coef_\":\n",
    "print(my_linear.coef_)\n",
    "coef_list = my_linear.coef_\n",
    "# coef_list.sort()\n",
    "print(coef_list)"
   ]
  },
  {
   "cell_type": "code",
   "execution_count": 12,
   "metadata": {},
   "outputs": [
    {
     "name": "stdout",
     "output_type": "stream",
     "text": [
      "{'bedrooms': -36345.326302930967, 'bathrooms': 45985.042077590108, 'sqft_living': 112.83531323383281, 'sqft_lot': -0.22712456233651324, 'floors': 28132.263967059673, 'waterfront': 529438.62057369074, 'view': 49308.158704706584, 'condition': 18198.605870255516, 'grade': 123643.98836587249, 'sqft_above': 56.104668441810645, 'sqft_basement': 56.730644823430339, 'yr_built': -3709.2482901308686}\n",
      "Dictionary in descending order by value :  [('waterfront', 529438.62057369074), ('grade', 123643.98836587249), ('view', 49308.158704706584), ('bathrooms', 45985.042077590108), ('floors', 28132.263967059673), ('condition', 18198.605870255516), ('sqft_living', 112.83531323383281), ('sqft_basement', 56.730644823430339), ('sqft_above', 56.104668441810645), ('sqft_lot', -0.22712456233651324), ('yr_built', -3709.2482901308686), ('bedrooms', -36345.326302930967)]\n"
     ]
    }
   ],
   "source": [
    "feature_dict = dict(zip(features, coef_list))\n",
    "print(feature_dict)\n",
    "import operator\n",
    "sorted_d = sorted(feature_dict.items(), key=operator.itemgetter(1),reverse=True)\n",
    "print('Dictionary in descending order by value : ',sorted_d)"
   ]
  },
  {
   "cell_type": "code",
   "execution_count": 13,
   "metadata": {},
   "outputs": [
    {
     "name": "stdout",
     "output_type": "stream",
     "text": [
      "[  373998.66022209  1315694.66022209   815982.66022209 ...,\n",
      "   183406.66022209   521838.66022209   281710.66022209]\n"
     ]
    }
   ],
   "source": [
    "#sorted_features = ['waterfront', 'grade', 'view', 'bathrooms', 'floors', 'condition']\n",
    "sorted_features = ['sqft_living','sqft_basement','sqft_above','sqft_lot','yr_built','bedrooms']\n",
    "best_feature_matrix = kc_df[sorted_features]\n",
    "best_feature_matrix = preprocessing.scale(best_feature_matrix)\n",
    "#best_feature_matrix.head()\n",
    "\n",
    "X_train, X_test, y_train, y_test = train_test_split(best_feature_matrix, lable_vector, test_size=0.3, random_state=3)\n",
    "my_linear.fit(X_train, y_train)\n",
    "y_predict_ln = my_linear.predict(X_test)\n",
    "print(y_predict_ln)"
   ]
  },
  {
   "cell_type": "code",
   "execution_count": 15,
   "metadata": {},
   "outputs": [
    {
     "data": {
      "image/png": "[encoded data removed]",
      "text/plain": [
       "<matplotlib.figure.Figure at 0x1175e9fd0>"
      ]
     },
     "metadata": {},
     "output_type": "display_data"
    },
    {
     "data": {
      "image/png": "[encoded data removed]",
      "text/plain": [
       "<matplotlib.figure.Figure at 0x10bcfd1d0>"
      ]
     },
     "metadata": {},
     "output_type": "display_data"
    },
    {
     "name": "stdout",
     "output_type": "stream",
     "text": [
      "[  373998.66022209  1315694.66022209   815982.66022209 ...,\n",
      "   183406.66022209   521838.66022209   281710.66022209]\n"
     ]
    }
   ],
   "source": [
    "#predict testing data\n",
    "\n",
    "#y_predict_knn = knn.predict(X_test)\n",
    "\n",
    "#y_predict_dt = my_decisiontree.predict(X_test)\n",
    "\n",
    "#y_predict_lr = my_logreg.predict(X_test)\n",
    "y_predict_ln = my_linear.predict(X_test)\n",
    "\n",
    "fig, ax = plt.subplots()\n",
    "ax.scatter(y_test, y_predict_ln, edgecolors=(0, 0, 0))\n",
    "ax.plot([y_test.min(), y_test.max()], [y_test.min(), y_test.max()], 'k--', lw=4)\n",
    "ax.set_xlabel('Measured')\n",
    "ax.set_ylabel('Predicted')\n",
    "plt.show()\n",
    "\n",
    "print(y_predict_ln)\n",
    "#print(y_predict_lr)\n",
    "#print(y_predict_dt)\n",
    "#print(y_predict_knn)"
   ]
  },
  {
   "cell_type": "code",
   "execution_count": null,
   "metadata": {
    "collapsed": true
   },
   "outputs": [],
   "source": [
    "# from sklearn.metrics import accuracy_score\n",
    "\n",
    "# score_lr = accuracy_score(y_test, y_predict_lr.argmax(axis=1))\n",
    "# #score_dt = accuracy_score(y_test, y_predict_dt)\n",
    "# #score_knn = accuracy_score(y_test, y_predict_knn)\n",
    "# print(\"Logistic Regression:>>> \",score_lr)\n",
    "# #print(\"Decision Tree>> \",score_dt)\n",
    "# #print(\"KNN>>>> \",score_knn)"
   ]
  },
  {
   "cell_type": "code",
   "execution_count": null,
   "metadata": {},
   "outputs": [],
   "source": [
    "error = mean_squared_error(y_test, y_predict_ln)\n",
    "print(error)"
   ]
  },
  {
   "cell_type": "code",
   "execution_count": null,
   "metadata": {},
   "outputs": [],
   "source": [
    "root_mean_square_error = np.sqrt(error)\n",
    "print(root_mean_square_error)"
   ]
  },
  {
   "cell_type": "code",
   "execution_count": null,
   "metadata": {},
   "outputs": [],
   "source": [
    "kv_linear_reg = LinearRegression()\n",
    "new_feature_marrix = preprocessing.scale(feature_matrix)\n",
    "kv_mse = cross_val_score(kv_linear_reg,new_feature_marrix,lable_vector, cv=10, scoring='neg_mean_squared_error')\n",
    "\n",
    "#print(credit_mse)\n",
    "\n",
    "credit_mse_positive = -kv_mse\n",
    "\n",
    "credit_rmse = np.sqrt(credit_mse_positive)\n",
    "\n",
    "#print(credit_rmse)\n",
    "\n",
    "print(credit_rmse.mean())"
   ]
  },
  {
   "cell_type": "code",
   "execution_count": null,
   "metadata": {},
   "outputs": [],
   "source": [
    "for feature in feature_matrix:\n",
    "    plt.plot(kc_df[feature], kc_df['price'])\n",
    "    red_patch = mpatches.Patch(color='red', label= feature)\n",
    "    plt.legend(handles=[red_patch])\n",
    "    plt.show()"
   ]
  },
  {
   "cell_type": "code",
   "execution_count": null,
   "metadata": {},
   "outputs": [],
   "source": [
    "my_RandomForest = RandomForestClassifier(n_estimators = 10, bootstrap = True, random_state=2)\n",
    "my_RandomForest.fit(X_train,y_train) #train random forest classifier using training data\n",
    "y_predict_rf=my_RandomForest.predict(X_test) #predict using testing data\n",
    "score_rf=accuracy_score(y_test, y_predict_rf) #accuracy based on predicted values and original values\n",
    "print(\"Random Forest> \",score_rf)"
   ]
  },
  {
   "cell_type": "code",
   "execution_count": 21,
   "metadata": {},
   "outputs": [
    {
     "data": {
      "text/plain": [
       "LinearRegression(copy_X=True, fit_intercept=True, n_jobs=1, normalize=False)"
      ]
     },
     "execution_count": 21,
     "metadata": {},
     "output_type": "execute_result"
    }
   ],
   "source": [
    "kc_df['year_sell'] = [int(i[:4]) for i in kc_df.date]\n",
    "\n",
    "kc_df.year_sell.value_counts().sort_index()\n",
    "\n",
    "\n",
    "test=kc_df[kc_df.year_sell==2015].reset_index(drop=True )\n",
    "train=kc_df[kc_df.year_sell==2014].reset_index(drop=True )\n",
    "x=train[kc_df.columns.drop(['price','id','date'])]\n",
    "y=train['price']\n",
    "col=kc_df.columns.drop(['price','id','date'])\n",
    "clf = LinearRegression()\n",
    "clf.fit(x,y)"
   ]
  },
  {
   "cell_type": "code",
   "execution_count": 24,
   "metadata": {},
   "outputs": [
    {
     "data": {
      "text/plain": [
       "0.70720633808996691"
      ]
     },
     "execution_count": 24,
     "metadata": {},
     "output_type": "execute_result"
    }
   ],
   "source": [
    "clf.score(x,y)"
   ]
  },
  {
   "cell_type": "code",
   "execution_count": null,
   "metadata": {},
   "outputs": [],
   "source": []
  },
  {
   "cell_type": "code",
   "execution_count": null,
   "metadata": {
    "collapsed": true
   },
   "outputs": [],
   "source": []
  }
 ],
 "metadata": {
  "kernelspec": {
   "display_name": "Python 3",
   "language": "python",
   "name": "python3"
  },
  "language_info": {
   "codemirror_mode": {
    "name": "ipython",
    "version": 3
   },
   "file_extension": ".py",
   "mimetype": "text/x-python",
   "name": "python",
   "nbconvert_exporter": "python",
   "pygments_lexer": "ipython3",
   "version": "3.6.1"
  }
 },
 "nbformat": 4,
 "nbformat_minor": 2
}
